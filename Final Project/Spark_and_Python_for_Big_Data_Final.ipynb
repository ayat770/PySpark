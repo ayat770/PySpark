{
  "nbformat": 4,
  "nbformat_minor": 5,
  "metadata": {
    "kernelspec": {
      "display_name": "Python 3",
      "language": "python",
      "name": "python3"
    },
    "language_info": {
      "codemirror_mode": {
        "name": "ipython",
        "version": 3
      },
      "file_extension": ".py",
      "mimetype": "text/x-python",
      "name": "python",
      "nbconvert_exporter": "python",
      "pygments_lexer": "ipython3",
      "version": "3.8.8"
    },
    "colab": {
      "name": "Spark_and_Python_for_Big_Data_Final_Exam_Branches{Ayat_Qabeel}.ipynb",
      "provenance": []
    }
  },
  "cells": [
    {
      "cell_type": "markdown",
      "metadata": {
        "id": "WrkeaCuXtH5h"
      },
      "source": [
        "# Ayat Ahmed AbdElmonem Mohmed Qabeel\n",
        "# Islamilia"
      ],
      "id": "WrkeaCuXtH5h"
    },
    {
      "cell_type": "markdown",
      "metadata": {
        "id": "abbf1e33"
      },
      "source": [
        "##### **Good luck with taking your exam. Keep working and make your dreams all come true. Seeing the results of all of your hard work will make this struggle worth it. We’re all thinking of you.** \n",
        "<b><font color='blue'>AI-PRO Spark Team ITI</font></b>"
      ],
      "id": "abbf1e33"
    },
    {
      "cell_type": "markdown",
      "metadata": {
        "id": "c9da32d6"
      },
      "source": [
        "# NLP Using PySpark"
      ],
      "id": "c9da32d6"
    },
    {
      "cell_type": "markdown",
      "metadata": {
        "id": "8326ba88"
      },
      "source": [
        "## Objective:\n",
        "- The objective from this project is to create a <b>Spam filter using NaiveBayes classifier</b>.\n",
        "- It is required to obtain <b>f1_scored > 0.9</b>.\n",
        "- We'll use a dataset from UCI Repository. SMS Spam Detection: https://archive.ics.uci.edu/ml/datasets/SMS+Spam+Collection\n",
        "- Data is also provided for you in the assignment (you do not have to download it)."
      ],
      "id": "8326ba88"
    },
    {
      "cell_type": "markdown",
      "metadata": {
        "id": "6971f788"
      },
      "source": [
        "## To perform this task follow the following guiding steps:"
      ],
      "id": "6971f788"
    },
    {
      "cell_type": "markdown",
      "metadata": {
        "id": "e31bc851"
      },
      "source": [
        "### Create a spark session and import the required libraries"
      ],
      "id": "e31bc851"
    },
    {
      "cell_type": "code",
      "metadata": {
        "id": "dcf86e46",
        "colab": {
          "base_uri": "https://localhost:8080/"
        },
        "outputId": "0f9ef02a-1b93-4a78-951b-ac8283053375"
      },
      "source": [
        "!pip install pyspark"
      ],
      "id": "dcf86e46",
      "execution_count": null,
      "outputs": [
        {
          "output_type": "stream",
          "name": "stdout",
          "text": [
            "Collecting pyspark\n",
            "  Downloading pyspark-3.2.0.tar.gz (281.3 MB)\n",
            "\u001b[K     |████████████████████████████████| 281.3 MB 37 kB/s \n",
            "\u001b[?25hCollecting py4j==0.10.9.2\n",
            "  Downloading py4j-0.10.9.2-py2.py3-none-any.whl (198 kB)\n",
            "\u001b[K     |████████████████████████████████| 198 kB 57.5 MB/s \n",
            "\u001b[?25hBuilding wheels for collected packages: pyspark\n",
            "  Building wheel for pyspark (setup.py) ... \u001b[?25l\u001b[?25hdone\n",
            "  Created wheel for pyspark: filename=pyspark-3.2.0-py2.py3-none-any.whl size=281805912 sha256=e16bb35f3637beaaf1f2e78268a14d6182a36a5bf787d573413e20ad1ef5c840\n",
            "  Stored in directory: /root/.cache/pip/wheels/0b/de/d2/9be5d59d7331c6c2a7c1b6d1a4f463ce107332b1ecd4e80718\n",
            "Successfully built pyspark\n",
            "Installing collected packages: py4j, pyspark\n",
            "Successfully installed py4j-0.10.9.2 pyspark-3.2.0\n"
          ]
        }
      ]
    },
    {
      "cell_type": "code",
      "metadata": {
        "colab": {
          "base_uri": "https://localhost:8080/",
          "height": 219
        },
        "id": "SsU0Mf-zX1TD",
        "outputId": "d751203f-1bca-4ffb-da2b-72c189805ebb"
      },
      "source": [
        "from pyspark.sql import SparkSession\n",
        "spark = SparkSession.builder.getOrCreate()\n",
        "spark"
      ],
      "id": "SsU0Mf-zX1TD",
      "execution_count": null,
      "outputs": [
        {
          "output_type": "execute_result",
          "data": {
            "text/html": [
              "\n",
              "            <div>\n",
              "                <p><b>SparkSession - in-memory</b></p>\n",
              "                \n",
              "        <div>\n",
              "            <p><b>SparkContext</b></p>\n",
              "\n",
              "            <p><a href=\"http://f089207a49d0:4040\">Spark UI</a></p>\n",
              "\n",
              "            <dl>\n",
              "              <dt>Version</dt>\n",
              "                <dd><code>v3.2.0</code></dd>\n",
              "              <dt>Master</dt>\n",
              "                <dd><code>local[*]</code></dd>\n",
              "              <dt>AppName</dt>\n",
              "                <dd><code>pyspark-shell</code></dd>\n",
              "            </dl>\n",
              "        </div>\n",
              "        \n",
              "            </div>\n",
              "        "
            ],
            "text/plain": [
              "<pyspark.sql.session.SparkSession at 0x7f3e5a566e50>"
            ]
          },
          "metadata": {},
          "execution_count": 2
        }
      ]
    },
    {
      "cell_type": "code",
      "metadata": {
        "id": "pfHHnisfYaqR"
      },
      "source": [
        "from pyspark.sql.types import *\n",
        "import pyspark.sql.functions as F"
      ],
      "id": "pfHHnisfYaqR",
      "execution_count": null,
      "outputs": []
    },
    {
      "cell_type": "markdown",
      "metadata": {
        "id": "90c7df9e"
      },
      "source": [
        "### Read the readme file to learn more about the data"
      ],
      "id": "90c7df9e"
    },
    {
      "cell_type": "markdown",
      "metadata": {
        "id": "2d00718f"
      },
      "source": [
        "### Read the data into a DataFrame"
      ],
      "id": "2d00718f"
    },
    {
      "cell_type": "code",
      "metadata": {
        "id": "29914cf1"
      },
      "source": [
        "allDF = spark.read.format(\"csv\")\\\n",
        "                .option(\"header\", \"false\")\\\n",
        "                .option(\"delimiter\", \"\\t\")\\\n",
        "                .option(\"inferSchema\", \"true\").load('SMSSpamCollection')"
      ],
      "id": "29914cf1",
      "execution_count": null,
      "outputs": []
    },
    {
      "cell_type": "markdown",
      "metadata": {
        "id": "182cd7f6"
      },
      "source": [
        "### Print the schema"
      ],
      "id": "182cd7f6"
    },
    {
      "cell_type": "code",
      "metadata": {
        "id": "b52706b9",
        "colab": {
          "base_uri": "https://localhost:8080/"
        },
        "outputId": "f7c90a7e-8108-4856-fddf-debac5478cc8"
      },
      "source": [
        "allDF.printSchema()"
      ],
      "id": "b52706b9",
      "execution_count": null,
      "outputs": [
        {
          "output_type": "stream",
          "name": "stdout",
          "text": [
            "root\n",
            " |-- _c0: string (nullable = true)\n",
            " |-- _c1: string (nullable = true)\n",
            "\n"
          ]
        }
      ]
    },
    {
      "cell_type": "markdown",
      "metadata": {
        "id": "2b90cce7"
      },
      "source": [
        "### Rename the first column to 'class' and second column to 'text'"
      ],
      "id": "2b90cce7"
    },
    {
      "cell_type": "code",
      "metadata": {
        "scrolled": false,
        "id": "f1a88df6"
      },
      "source": [
        "allDF = allDF.withColumnRenamed(\"_c0\", \"class\")\n",
        "allDF = allDF.withColumnRenamed(\"_c1\", \"text\")"
      ],
      "id": "f1a88df6",
      "execution_count": null,
      "outputs": []
    },
    {
      "cell_type": "code",
      "metadata": {
        "id": "62a544fc"
      },
      "source": [
        ""
      ],
      "id": "62a544fc",
      "execution_count": null,
      "outputs": []
    },
    {
      "cell_type": "markdown",
      "metadata": {
        "id": "a3e798d0"
      },
      "source": [
        "### Show the first 10 rows from the dataframe\n",
        "- Show once with truncate=True and once with truncate=False"
      ],
      "id": "a3e798d0"
    },
    {
      "cell_type": "code",
      "metadata": {
        "id": "362dcb99",
        "colab": {
          "base_uri": "https://localhost:8080/"
        },
        "outputId": "dff96d02-b242-447b-fc0e-6aa49b60296c"
      },
      "source": [
        "allDF.show(10,truncate=True)"
      ],
      "id": "362dcb99",
      "execution_count": null,
      "outputs": [
        {
          "output_type": "stream",
          "name": "stdout",
          "text": [
            "+-----+--------------------+\n",
            "|class|                text|\n",
            "+-----+--------------------+\n",
            "|  ham|Go until jurong p...|\n",
            "|  ham|Ok lar... Joking ...|\n",
            "| spam|Free entry in 2 a...|\n",
            "|  ham|U dun say so earl...|\n",
            "|  ham|Nah I don't think...|\n",
            "| spam|FreeMsg Hey there...|\n",
            "|  ham|Even my brother i...|\n",
            "|  ham|As per your reque...|\n",
            "| spam|WINNER!! As a val...|\n",
            "| spam|Had your mobile 1...|\n",
            "+-----+--------------------+\n",
            "only showing top 10 rows\n",
            "\n"
          ]
        }
      ]
    },
    {
      "cell_type": "code",
      "metadata": {
        "id": "41609e6b",
        "colab": {
          "base_uri": "https://localhost:8080/"
        },
        "outputId": "b8f5e2af-24d9-4a6b-e7da-dd3c07946d7e"
      },
      "source": [
        "allDF.show(10,truncate=False)"
      ],
      "id": "41609e6b",
      "execution_count": null,
      "outputs": [
        {
          "output_type": "stream",
          "name": "stdout",
          "text": [
            "+-----+----------------------------------------------------------------------------------------------------------------------------------------------------------------+\n",
            "|class|text                                                                                                                                                            |\n",
            "+-----+----------------------------------------------------------------------------------------------------------------------------------------------------------------+\n",
            "|ham  |Go until jurong point, crazy.. Available only in bugis n great world la e buffet... Cine there got amore wat...                                                 |\n",
            "|ham  |Ok lar... Joking wif u oni...                                                                                                                                   |\n",
            "|spam |Free entry in 2 a wkly comp to win FA Cup final tkts 21st May 2005. Text FA to 87121 to receive entry question(std txt rate)T&C's apply 08452810075over18's     |\n",
            "|ham  |U dun say so early hor... U c already then say...                                                                                                               |\n",
            "|ham  |Nah I don't think he goes to usf, he lives around here though                                                                                                   |\n",
            "|spam |FreeMsg Hey there darling it's been 3 week's now and no word back! I'd like some fun you up for it still? Tb ok! XxX std chgs to send, £1.50 to rcv             |\n",
            "|ham  |Even my brother is not like to speak with me. They treat me like aids patent.                                                                                   |\n",
            "|ham  |As per your request 'Melle Melle (Oru Minnaminunginte Nurungu Vettam)' has been set as your callertune for all Callers. Press *9 to copy your friends Callertune|\n",
            "|spam |WINNER!! As a valued network customer you have been selected to receivea £900 prize reward! To claim call 09061701461. Claim code KL341. Valid 12 hours only.   |\n",
            "|spam |Had your mobile 11 months or more? U R entitled to Update to the latest colour mobiles with camera for Free! Call The Mobile Update Co FREE on 08002986030      |\n",
            "+-----+----------------------------------------------------------------------------------------------------------------------------------------------------------------+\n",
            "only showing top 10 rows\n",
            "\n"
          ]
        }
      ]
    },
    {
      "cell_type": "markdown",
      "metadata": {
        "id": "2fe744a9"
      },
      "source": [
        "## Clean and Prepare the Data"
      ],
      "id": "2fe744a9"
    },
    {
      "cell_type": "markdown",
      "metadata": {
        "id": "4d693167"
      },
      "source": [
        "### Create a new feature column contains the length of the text column"
      ],
      "id": "4d693167"
    },
    {
      "cell_type": "code",
      "metadata": {
        "id": "5424a0cb"
      },
      "source": [
        "allDF = allDF.withColumn(\"length\", F.length('text'))"
      ],
      "id": "5424a0cb",
      "execution_count": null,
      "outputs": []
    },
    {
      "cell_type": "markdown",
      "metadata": {
        "id": "78ea2de6"
      },
      "source": [
        "### Show the new dataframe"
      ],
      "id": "78ea2de6"
    },
    {
      "cell_type": "code",
      "metadata": {
        "scrolled": false,
        "id": "04c67c53",
        "colab": {
          "base_uri": "https://localhost:8080/"
        },
        "outputId": "e41c54ed-c2c5-4357-d660-cfa3feef3f60"
      },
      "source": [
        "allDF.show()"
      ],
      "id": "04c67c53",
      "execution_count": null,
      "outputs": [
        {
          "output_type": "stream",
          "name": "stdout",
          "text": [
            "+-----+--------------------+------+\n",
            "|class|                text|length|\n",
            "+-----+--------------------+------+\n",
            "|  ham|Go until jurong p...|   111|\n",
            "|  ham|Ok lar... Joking ...|    29|\n",
            "| spam|Free entry in 2 a...|   155|\n",
            "|  ham|U dun say so earl...|    49|\n",
            "|  ham|Nah I don't think...|    61|\n",
            "| spam|FreeMsg Hey there...|   147|\n",
            "|  ham|Even my brother i...|    77|\n",
            "|  ham|As per your reque...|   160|\n",
            "| spam|WINNER!! As a val...|   157|\n",
            "| spam|Had your mobile 1...|   154|\n",
            "|  ham|I'm gonna be home...|   109|\n",
            "| spam|SIX chances to wi...|   136|\n",
            "| spam|URGENT! You have ...|   155|\n",
            "|  ham|I've been searchi...|   196|\n",
            "|  ham|I HAVE A DATE ON ...|    35|\n",
            "| spam|XXXMobileMovieClu...|   149|\n",
            "|  ham|Oh k...i'm watchi...|    26|\n",
            "|  ham|Eh u remember how...|    81|\n",
            "|  ham|Fine if thats th...|    56|\n",
            "| spam|England v Macedon...|   155|\n",
            "+-----+--------------------+------+\n",
            "only showing top 20 rows\n",
            "\n"
          ]
        }
      ]
    },
    {
      "cell_type": "markdown",
      "metadata": {
        "id": "692e37a6"
      },
      "source": [
        "### Get the average text length for each class (give alias name to the average length column)"
      ],
      "id": "692e37a6"
    },
    {
      "cell_type": "code",
      "metadata": {
        "id": "5c32727d",
        "colab": {
          "base_uri": "https://localhost:8080/"
        },
        "outputId": "2a3381bc-cc73-4249-a5d3-cc64e48d33fb"
      },
      "source": [
        "allDF.groupBy(\"class\").agg(F.avg(\"length\").alias(\"Avg. Length\")).show()"
      ],
      "id": "5c32727d",
      "execution_count": null,
      "outputs": [
        {
          "output_type": "stream",
          "name": "stdout",
          "text": [
            "+-----+-----------------+\n",
            "|class|      Avg. Length|\n",
            "+-----+-----------------+\n",
            "|  ham|71.45431945307645|\n",
            "| spam|138.6706827309237|\n",
            "+-----+-----------------+\n",
            "\n"
          ]
        }
      ]
    },
    {
      "cell_type": "markdown",
      "metadata": {
        "id": "d5e101af"
      },
      "source": [
        "## Feature Transformations"
      ],
      "id": "d5e101af"
    },
    {
      "cell_type": "markdown",
      "metadata": {
        "id": "838ad9dd"
      },
      "source": [
        "### In this part you transform you raw text in to tf_idf model :\n",
        "- For more information about TF-IDF check the following link: <b>(Not needed for the test)</b>\n",
        "https://en.wikipedia.org/wiki/Tf%E2%80%93idf"
      ],
      "id": "838ad9dd"
    },
    {
      "cell_type": "markdown",
      "metadata": {
        "id": "225067d5"
      },
      "source": [
        "### Perform the following steps to obtain TF-IDF:\n",
        "1. Import the required transformers/estimators for the subsequent steps.\n",
        "2. Create a <b>Tokenizer</b> from the text column.\n",
        "3. Create a <b>StopWordsRemover</b> to remove the <b>stop words</b> from the column obtained from the <b>Tokenizer</b>.\n",
        "4. Create a <b>CountVectorizer</b> after removing the <b>stop words</b>.\n",
        "5. Create the <b>TF-IDF</b> from the <b>CountVectorizer</b>."
      ],
      "id": "225067d5"
    },
    {
      "cell_type": "code",
      "metadata": {
        "id": "6a4eebf8"
      },
      "source": [
        "from pyspark.ml.feature import Tokenizer,StopWordsRemover, CountVectorizer,IDF,StringIndexer\n",
        "\n",
        "tokenizer = Tokenizer(inputCol=\"text\", outputCol=\"token_text\")\n"
      ],
      "id": "6a4eebf8",
      "execution_count": null,
      "outputs": []
    },
    {
      "cell_type": "code",
      "metadata": {
        "id": "pWJQ6awUj8B7"
      },
      "source": [
        "stopremove = StopWordsRemover(inputCol='token_text',outputCol='stop_tokens')"
      ],
      "id": "pWJQ6awUj8B7",
      "execution_count": null,
      "outputs": []
    },
    {
      "cell_type": "code",
      "metadata": {
        "id": "b82756db"
      },
      "source": [
        "count_vec = CountVectorizer(inputCol='stop_tokens',outputCol='c_vec')"
      ],
      "id": "b82756db",
      "execution_count": null,
      "outputs": []
    },
    {
      "cell_type": "markdown",
      "metadata": {
        "id": "ndHlfGDZqMZK"
      },
      "source": [
        "\n",
        "*   Convert the class column to index using StringIndexer\n",
        "*   Create feature column from the TF-IDF and lenght columns.\n",
        "\n"
      ],
      "id": "ndHlfGDZqMZK"
    },
    {
      "cell_type": "code",
      "metadata": {
        "id": "GLHDuePQhZ10"
      },
      "source": [
        "idf = IDF(inputCol=\"c_vec\", outputCol=\"tf_idf\")"
      ],
      "id": "GLHDuePQhZ10",
      "execution_count": null,
      "outputs": []
    },
    {
      "cell_type": "code",
      "metadata": {
        "id": "mynv6izVhZ39"
      },
      "source": [
        "ham_spam_to_num = StringIndexer(inputCol='class',outputCol='label')"
      ],
      "id": "mynv6izVhZ39",
      "execution_count": null,
      "outputs": []
    },
    {
      "cell_type": "markdown",
      "metadata": {
        "id": "9775d494"
      },
      "source": [
        "## The Model\n",
        "- Create a <b>NaiveBayes</b> classifier with the default parameters."
      ],
      "id": "9775d494"
    },
    {
      "cell_type": "code",
      "metadata": {
        "id": "57af0d5d"
      },
      "source": [
        "from pyspark.ml.classification import NaiveBayes"
      ],
      "id": "57af0d5d",
      "execution_count": null,
      "outputs": []
    },
    {
      "cell_type": "code",
      "metadata": {
        "id": "54c7384e"
      },
      "source": [
        "nb = NaiveBayes()"
      ],
      "id": "54c7384e",
      "execution_count": null,
      "outputs": []
    },
    {
      "cell_type": "markdown",
      "metadata": {
        "id": "dc14de63"
      },
      "source": [
        "## Pipeline\n",
        "### Create a pipeline model contains all the steps starting from the Tokenizer to the NaiveBays classifier."
      ],
      "id": "dc14de63"
    },
    {
      "cell_type": "code",
      "metadata": {
        "id": "8ee0d1ca"
      },
      "source": [
        "from pyspark.ml.feature import VectorAssembler\n",
        "from pyspark.ml.linalg import Vector"
      ],
      "id": "8ee0d1ca",
      "execution_count": null,
      "outputs": []
    },
    {
      "cell_type": "code",
      "metadata": {
        "id": "7f82bab0"
      },
      "source": [
        "clean_up = VectorAssembler(inputCols=['tf_idf','length'],outputCol='features')"
      ],
      "id": "7f82bab0",
      "execution_count": null,
      "outputs": []
    },
    {
      "cell_type": "code",
      "metadata": {
        "id": "K83kD8iJqp72"
      },
      "source": [
        "from pyspark.ml import Pipeline"
      ],
      "id": "K83kD8iJqp72",
      "execution_count": null,
      "outputs": []
    },
    {
      "cell_type": "code",
      "metadata": {
        "id": "Ymm0Ass0qqEr"
      },
      "source": [
        "data_prep_pipe = Pipeline(stages=[ham_spam_to_num,tokenizer,stopremove,count_vec,idf,clean_up])"
      ],
      "id": "Ymm0Ass0qqEr",
      "execution_count": null,
      "outputs": []
    },
    {
      "cell_type": "code",
      "metadata": {
        "id": "TQhlqTvcqqII"
      },
      "source": [
        "cleaner = data_prep_pipe.fit(allDF)"
      ],
      "id": "TQhlqTvcqqII",
      "execution_count": null,
      "outputs": []
    },
    {
      "cell_type": "code",
      "metadata": {
        "id": "KMzd-eOZqzO0"
      },
      "source": [
        "clean_data = cleaner.transform(allDF)"
      ],
      "id": "KMzd-eOZqzO0",
      "execution_count": null,
      "outputs": []
    },
    {
      "cell_type": "code",
      "metadata": {
        "colab": {
          "base_uri": "https://localhost:8080/"
        },
        "id": "rRnrfGVlqzSP",
        "outputId": "83e1583a-7381-4ea3-e3d3-f271f089d64b"
      },
      "source": [
        "clean_data.show(10)"
      ],
      "id": "rRnrfGVlqzSP",
      "execution_count": null,
      "outputs": [
        {
          "output_type": "stream",
          "name": "stdout",
          "text": [
            "+-----+--------------------+------+-----+--------------------+--------------------+--------------------+--------------------+--------------------+\n",
            "|class|                text|length|label|          token_text|         stop_tokens|               c_vec|              tf_idf|            features|\n",
            "+-----+--------------------+------+-----+--------------------+--------------------+--------------------+--------------------+--------------------+\n",
            "|  ham|Go until jurong p...|   111|  0.0|[go, until, juron...|[go, jurong, poin...|(13423,[7,11,31,6...|(13423,[7,11,31,6...|(13424,[7,11,31,6...|\n",
            "|  ham|Ok lar... Joking ...|    29|  0.0|[ok, lar..., joki...|[ok, lar..., joki...|(13423,[0,24,297,...|(13423,[0,24,297,...|(13424,[0,24,297,...|\n",
            "| spam|Free entry in 2 a...|   155|  1.0|[free, entry, in,...|[free, entry, 2, ...|(13423,[2,13,19,3...|(13423,[2,13,19,3...|(13424,[2,13,19,3...|\n",
            "|  ham|U dun say so earl...|    49|  0.0|[u, dun, say, so,...|[u, dun, say, ear...|(13423,[0,70,80,1...|(13423,[0,70,80,1...|(13424,[0,70,80,1...|\n",
            "|  ham|Nah I don't think...|    61|  0.0|[nah, i, don't, t...|[nah, think, goes...|(13423,[36,134,31...|(13423,[36,134,31...|(13424,[36,134,31...|\n",
            "| spam|FreeMsg Hey there...|   147|  1.0|[freemsg, hey, th...|[freemsg, hey, da...|(13423,[10,60,139...|(13423,[10,60,139...|(13424,[10,60,139...|\n",
            "|  ham|Even my brother i...|    77|  0.0|[even, my, brothe...|[even, brother, l...|(13423,[10,53,103...|(13423,[10,53,103...|(13424,[10,53,103...|\n",
            "|  ham|As per your reque...|   160|  0.0|[as, per, your, r...|[per, request, 'm...|(13423,[125,184,4...|(13423,[125,184,4...|(13424,[125,184,4...|\n",
            "| spam|WINNER!! As a val...|   157|  1.0|[winner!!, as, a,...|[winner!!, valued...|(13423,[1,47,118,...|(13423,[1,47,118,...|(13424,[1,47,118,...|\n",
            "| spam|Had your mobile 1...|   154|  1.0|[had, your, mobil...|[mobile, 11, mont...|(13423,[0,1,13,27...|(13423,[0,1,13,27...|(13424,[0,1,13,27...|\n",
            "+-----+--------------------+------+-----+--------------------+--------------------+--------------------+--------------------+--------------------+\n",
            "only showing top 10 rows\n",
            "\n"
          ]
        }
      ]
    },
    {
      "cell_type": "code",
      "metadata": {
        "id": "HJCnLE8BrGr7"
      },
      "source": [
        "clean_data = clean_data.select(['label','features'])"
      ],
      "id": "HJCnLE8BrGr7",
      "execution_count": null,
      "outputs": []
    },
    {
      "cell_type": "code",
      "metadata": {
        "colab": {
          "base_uri": "https://localhost:8080/"
        },
        "id": "SYw7nSp9rQM1",
        "outputId": "b7f1e5f1-50f2-4417-e141-2bb0dd84c48b"
      },
      "source": [
        "clean_data.show(10)"
      ],
      "id": "SYw7nSp9rQM1",
      "execution_count": null,
      "outputs": [
        {
          "output_type": "stream",
          "name": "stdout",
          "text": [
            "+-----+--------------------+\n",
            "|label|            features|\n",
            "+-----+--------------------+\n",
            "|  0.0|(13424,[7,11,31,6...|\n",
            "|  0.0|(13424,[0,24,297,...|\n",
            "|  1.0|(13424,[2,13,19,3...|\n",
            "|  0.0|(13424,[0,70,80,1...|\n",
            "|  0.0|(13424,[36,134,31...|\n",
            "|  1.0|(13424,[10,60,139...|\n",
            "|  0.0|(13424,[10,53,103...|\n",
            "|  0.0|(13424,[125,184,4...|\n",
            "|  1.0|(13424,[1,47,118,...|\n",
            "|  1.0|(13424,[0,1,13,27...|\n",
            "+-----+--------------------+\n",
            "only showing top 10 rows\n",
            "\n"
          ]
        }
      ]
    },
    {
      "cell_type": "markdown",
      "metadata": {
        "id": "f5d7efbe"
      },
      "source": [
        "### Split your data to trian and test data with ratios 0.7 and 0.3 respectively."
      ],
      "id": "f5d7efbe"
    },
    {
      "cell_type": "code",
      "metadata": {
        "id": "2843d997"
      },
      "source": [
        "(training,testing) = clean_data.randomSplit([0.7,0.3])"
      ],
      "id": "2843d997",
      "execution_count": null,
      "outputs": []
    },
    {
      "cell_type": "code",
      "metadata": {
        "id": "3c5d4681"
      },
      "source": [
        "spam_predictor = nb.fit(training)"
      ],
      "id": "3c5d4681",
      "execution_count": null,
      "outputs": []
    },
    {
      "cell_type": "markdown",
      "metadata": {
        "id": "228a3eb1"
      },
      "source": [
        "### Perform predictions on tests dataframe"
      ],
      "id": "228a3eb1"
    },
    {
      "cell_type": "code",
      "metadata": {
        "id": "14f4aab5"
      },
      "source": [
        "pre = spam_predictor.transform(testing)"
      ],
      "id": "14f4aab5",
      "execution_count": null,
      "outputs": []
    },
    {
      "cell_type": "markdown",
      "metadata": {
        "id": "bce2885f"
      },
      "source": [
        "### Print the schema of the prediction dataframe"
      ],
      "id": "bce2885f"
    },
    {
      "cell_type": "code",
      "metadata": {
        "id": "6e3ea341",
        "colab": {
          "base_uri": "https://localhost:8080/"
        },
        "outputId": "bb50cc52-6972-4aee-bbb3-8e16188174f3"
      },
      "source": [
        "pre.printSchema()"
      ],
      "id": "6e3ea341",
      "execution_count": null,
      "outputs": [
        {
          "output_type": "stream",
          "name": "stdout",
          "text": [
            "root\n",
            " |-- label: double (nullable = false)\n",
            " |-- features: vector (nullable = true)\n",
            " |-- rawPrediction: vector (nullable = true)\n",
            " |-- probability: vector (nullable = true)\n",
            " |-- prediction: double (nullable = false)\n",
            "\n"
          ]
        }
      ]
    },
    {
      "cell_type": "markdown",
      "metadata": {
        "id": "57f27055"
      },
      "source": [
        "## Model Evaluation\n",
        "- Use <b>MulticlassClassificationEvaluator</b> to calculate the <b>f1_score</b>."
      ],
      "id": "57f27055"
    },
    {
      "cell_type": "code",
      "metadata": {
        "id": "61911086"
      },
      "source": [
        "from pyspark.ml.evaluation import MulticlassClassificationEvaluator"
      ],
      "id": "61911086",
      "execution_count": null,
      "outputs": []
    },
    {
      "cell_type": "code",
      "metadata": {
        "id": "be706565",
        "colab": {
          "base_uri": "https://localhost:8080/"
        },
        "outputId": "f45fad8f-b3a9-42a4-b630-a0807f57f676"
      },
      "source": [
        "acc_eval = MulticlassClassificationEvaluator()\n",
        "acc = acc_eval.evaluate(pre)\n",
        "print(\"Accuracy of model: {}\".format(acc))"
      ],
      "id": "be706565",
      "execution_count": null,
      "outputs": [
        {
          "output_type": "stream",
          "name": "stdout",
          "text": [
            "Accuracy of model: 0.9228373147110744\n"
          ]
        }
      ]
    },
    {
      "cell_type": "markdown",
      "metadata": {
        "id": "e00e7b53"
      },
      "source": [
        "# GOOD LUCK\n",
        "<b><font color='GREEN'>AI-PRO Spark Team ITI</font></b>"
      ],
      "id": "e00e7b53"
    }
  ]
}